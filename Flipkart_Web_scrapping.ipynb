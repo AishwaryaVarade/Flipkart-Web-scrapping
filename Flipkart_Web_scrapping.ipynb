{
  "nbformat": 4,
  "nbformat_minor": 0,
  "metadata": {
    "colab": {
      "name": "Flipkart-Web scrapping",
      "provenance": [],
      "collapsed_sections": []
    },
    "kernelspec": {
      "name": "python3",
      "display_name": "Python 3"
    }
  },
  "cells": [
    {
      "cell_type": "code",
      "metadata": {
        "id": "RtMPz2jzXpBM"
      },
      "source": [
        "import requests\n",
        "from bs4 import BeautifulSoup as bs\n",
        "url=\"https://www.flipkart.com/washing-machine-store?otracker=nmenu_sub_TVs%20%26%20Appliances_0_Washing%20Machine\"\n"
      ],
      "execution_count": null,
      "outputs": []
    },
    {
      "cell_type": "code",
      "metadata": {
        "id": "UvF7YFp7bv8i"
      },
      "source": [
        "page=requests.get(url)\n",
        "soup=bs(page.text,'html.parser')"
      ],
      "execution_count": null,
      "outputs": []
    },
    {
      "cell_type": "code",
      "metadata": {
        "id": "MY4xMmUpbv_D"
      },
      "source": [
        "container=soup.find_all(\"div\",{\"class\":\"_3E8aIl X3IECw row\"})"
      ],
      "execution_count": null,
      "outputs": []
    },
    {
      "cell_type": "code",
      "metadata": {
        "id": "aB77voN6dv62"
      },
      "source": [
        "containers=container[0]"
      ],
      "execution_count": null,
      "outputs": []
    },
    {
      "cell_type": "code",
      "metadata": {
        "id": "Wgczph5lbwCQ"
      },
      "source": [
        "import pandas as pd"
      ],
      "execution_count": null,
      "outputs": []
    },
    {
      "cell_type": "code",
      "metadata": {
        "id": "kLGIn_nQbwGu"
      },
      "source": [
        "def hh():\n",
        "\n",
        "a=(containers.find_all(\"img\")[0][\"alt\"],containers.find_all(\"img\")[0][\"src\"])\n",
        "print(a.findchildren())"
      ],
      "execution_count": null,
      "outputs": []
    },
    {
      "cell_type": "code",
      "metadata": {
        "colab": {
          "base_uri": "https://localhost:8080/",
          "height": 111
        },
        "id": "CJRUReGSbwM8",
        "outputId": "cf053b48-b81e-41ff-a728-fe3984de9820"
      },
      "source": [
        "dataframe=pd.DataFrame(a)\n",
        "dataframe"
      ],
      "execution_count": null,
      "outputs": [
        {
          "output_type": "execute_result",
          "data": {
            "text/html": [
              "<div>\n",
              "<style scoped>\n",
              "    .dataframe tbody tr th:only-of-type {\n",
              "        vertical-align: middle;\n",
              "    }\n",
              "\n",
              "    .dataframe tbody tr th {\n",
              "        vertical-align: top;\n",
              "    }\n",
              "\n",
              "    .dataframe thead th {\n",
              "        text-align: right;\n",
              "    }\n",
              "</style>\n",
              "<table border=\"1\" class=\"dataframe\">\n",
              "  <thead>\n",
              "    <tr style=\"text-align: right;\">\n",
              "      <th></th>\n",
              "      <th>0</th>\n",
              "    </tr>\n",
              "  </thead>\n",
              "  <tbody>\n",
              "    <tr>\n",
              "      <th>0</th>\n",
              "      <td>LG 6.5 kg 5 Star Inverter Fully Automatic Top ...</td>\n",
              "    </tr>\n",
              "    <tr>\n",
              "      <th>1</th>\n",
              "      <td>//img1a.flixcart.com/www/linchpin/fk-cp-zion/i...</td>\n",
              "    </tr>\n",
              "  </tbody>\n",
              "</table>\n",
              "</div>"
            ],
            "text/plain": [
              "                                                   0\n",
              "0  LG 6.5 kg 5 Star Inverter Fully Automatic Top ...\n",
              "1  //img1a.flixcart.com/www/linchpin/fk-cp-zion/i..."
            ]
          },
          "metadata": {
            "tags": []
          },
          "execution_count": 14
        }
      ]
    },
    {
      "cell_type": "code",
      "metadata": {
        "colab": {
          "base_uri": "https://localhost:8080/"
        },
        "id": "gsTxIt6ebwPd",
        "outputId": "1a4ffaf0-fa67-4bd4-fe77-285ff0cfcea3"
      },
      "source": [
        "dataframe[1]"
      ],
      "execution_count": null,
      "outputs": [
        {
          "output_type": "execute_result",
          "data": {
            "text/plain": [
              "0    []\n",
              "1    []\n",
              "Name: 1, dtype: object"
            ]
          },
          "metadata": {
            "tags": []
          },
          "execution_count": 12
        }
      ]
    },
    {
      "cell_type": "code",
      "metadata": {
        "id": "Rl6wjNvXoC4_"
      },
      "source": [
        "soup = BeautifulSoup(response.text, 'html.parser')\n"
      ],
      "execution_count": null,
      "outputs": []
    },
    {
      "cell_type": "code",
      "metadata": {
        "id": "XZ7VgpU8oGan"
      },
      "source": [
        "soup"
      ],
      "execution_count": null,
      "outputs": []
    },
    {
      "cell_type": "code",
      "metadata": {
        "id": "WfpROl97JQlC"
      },
      "source": [
        "div_tags = soup.find_all(\"div\", class_=\"product details product-item-details catalog-item__content\")\n",
        "\n",
        "## we will see all the div tags \n",
        "## enclosing the anchor tags with the required info\n",
        "for tag in div_tags:\n",
        "    print(tag)"
      ],
      "execution_count": null,
      "outputs": []
    },
    {
      "cell_type": "code",
      "metadata": {
        "id": "gNke6r1PoIwl"
      },
      "source": [
        "print(soup.find_all('title')[0].text)"
      ],
      "execution_count": null,
      "outputs": []
    },
    {
      "cell_type": "code",
      "metadata": {
        "id": "vrCdfb_NvKbB"
      },
      "source": [
        "titles = soup.find_all(['h1', 'h2','h3','h4','h5','h6'])\n",
        "print('List all the header tags :', *titles, sep='\\n\\n')"
      ],
      "execution_count": null,
      "outputs": []
    },
    {
      "cell_type": "code",
      "metadata": {
        "id": "iUXD2eOyoPmO"
      },
      "source": [
        "print(soup.find('a').text)"
      ],
      "execution_count": null,
      "outputs": []
    },
    {
      "cell_type": "code",
      "metadata": {
        "id": "XmLRGeOOoTFC"
      },
      "source": [
        "print(soup.find('h2').text)\n"
      ],
      "execution_count": null,
      "outputs": []
    },
    {
      "cell_type": "code",
      "metadata": {
        "id": "-KmAlXEroa6N"
      },
      "source": [
        "print(soup.find_all(\"div\"))\n"
      ],
      "execution_count": null,
      "outputs": []
    },
    {
      "cell_type": "code",
      "metadata": {
        "id": "Egkg92BFou62"
      },
      "source": [
        "print(soup.find_all(\"div\", class_= \"cOl4Id\"))"
      ],
      "execution_count": null,
      "outputs": []
    },
    {
      "cell_type": "code",
      "metadata": {
        "id": "zWp-NM7zo7Xj"
      },
      "source": [
        "https://en.wikipedia.org/wiki/Mahatma_Gandhi"
      ],
      "execution_count": null,
      "outputs": []
    },
    {
      "cell_type": "code",
      "metadata": {
        "colab": {
          "base_uri": "https://localhost:8080/"
        },
        "id": "265ZqboUyiG3",
        "outputId": "e6c8739b-23cd-4f8e-dba6-7c3c59b46ab6"
      },
      "source": [
        "#q4\n",
        "from urllib.request import urlopen\n",
        "from bs4 import BeautifulSoup\n",
        "import re\n",
        "\n",
        "html = urlopen('https://en.wikipedia.org/wiki/Shivaji')\n",
        "bs = BeautifulSoup(html, 'html.parser')\n",
        "images = bs.find_all('img', {'src':re.compile('.jpg')})\n",
        "for image in images: \n",
        "    print(image['src']+'\\n')"
      ],
      "execution_count": null,
      "outputs": [
        {
          "output_type": "stream",
          "text": [
            "//upload.wikimedia.org/wikipedia/commons/thumb/e/ea/Shivaji_British_Museum.jpg/220px-Shivaji_British_Museum.jpg\n",
            "\n",
            "//upload.wikimedia.org/wikipedia/commons/thumb/1/1e/Shivneri_Fort_Birth_place_of_Shivaji_maharaj.jpg/220px-Shivneri_Fort_Birth_place_of_Shivaji_maharaj.jpg\n",
            "\n",
            "//upload.wikimedia.org/wikipedia/commons/thumb/9/9c/Death_of_Afzal_Khan.jpg/220px-Death_of_Afzal_Khan.jpg\n",
            "\n",
            "//upload.wikimedia.org/wikipedia/en/thumb/3/35/Pratapgad_%282%29.jpg/220px-Pratapgad_%282%29.jpg\n",
            "\n",
            "//upload.wikimedia.org/wikipedia/commons/thumb/0/0f/Shivaji_and_Subedar%27s_Daughter_M._V._Dhurandhar.jpg/220px-Shivaji_and_Subedar%27s_Daughter_M._V._Dhurandhar.jpg\n",
            "\n",
            "//upload.wikimedia.org/wikipedia/commons/thumb/a/ae/Shaistekhan_Surprised.jpg/220px-Shaistekhan_Surprised.jpg\n",
            "\n",
            "//upload.wikimedia.org/wikipedia/commons/thumb/5/53/Jai_Singh_and_Shivaji.jpg/220px-Jai_Singh_and_Shivaji.jpg\n",
            "\n",
            "//upload.wikimedia.org/wikipedia/commons/thumb/c/c5/On_the_way_to_Purandar.jpg/220px-On_the_way_to_Purandar.jpg\n",
            "\n",
            "//upload.wikimedia.org/wikipedia/commons/thumb/7/72/Raja_Shivaji_at_Aurangzeb%27s_Darbar-_M_V_Dhurandhar.jpg/220px-Raja_Shivaji_at_Aurangzeb%27s_Darbar-_M_V_Dhurandhar.jpg\n",
            "\n",
            "//upload.wikimedia.org/wikipedia/commons/thumb/c/c6/Emperor_of_Maratha_India.jpg/220px-Emperor_of_Maratha_India.jpg\n",
            "\n",
            "//upload.wikimedia.org/wikipedia/commons/thumb/f/fe/The_Coronation_Durbar_with_over_100_characters_depicted_in_attendance.jpg/350px-The_Coronation_Durbar_with_over_100_characters_depicted_in_attendance.jpg\n",
            "\n",
            "//upload.wikimedia.org/wikipedia/commons/thumb/0/02/Bajirao_Peshwa_Statue%2C_Pune.jpg/220px-Bajirao_Peshwa_Statue%2C_Pune.jpg\n",
            "\n",
            "//upload.wikimedia.org/wikipedia/en/thumb/8/8e/Sajjangad.jpg/220px-Sajjangad.jpg\n",
            "\n",
            "//upload.wikimedia.org/wikipedia/commons/thumb/4/46/Suvela_Machi_from_Balekilla.jpg/220px-Suvela_Machi_from_Balekilla.jpg\n",
            "\n",
            "//upload.wikimedia.org/wikipedia/commons/thumb/9/92/Shivaji_Maharaj_and_Baji_Prabhu_at_Pawan_Khind.jpg/220px-Shivaji_Maharaj_and_Baji_Prabhu_at_Pawan_Khind.jpg\n",
            "\n",
            "//upload.wikimedia.org/wikipedia/commons/thumb/2/2d/Shivaji_Maharaj_Raigad.jpg/220px-Shivaji_Maharaj_Raigad.jpg\n",
            "\n"
          ],
          "name": "stdout"
        }
      ]
    },
    {
      "cell_type": "code",
      "metadata": {
        "colab": {
          "base_uri": "https://localhost:8080/"
        },
        "id": "DoxTiyNV8ixC",
        "outputId": "8da018e7-96fc-4720-9193-36ab1b73a7bc"
      },
      "source": [
        "\n",
        "images = bs.find_all('img', {'src':re.compile('.jpg')})\n",
        "image_info\n",
        "for image in images: \n",
        "    print(image['src']+'\\n')\n",
        "\n"
      ],
      "execution_count": null,
      "outputs": [
        {
          "output_type": "stream",
          "text": [
            "//upload.wikimedia.org/wikipedia/commons/thumb/e/ea/Shivaji_British_Museum.jpg/220px-Shivaji_British_Museum.jpg\n",
            "\n",
            "//upload.wikimedia.org/wikipedia/commons/thumb/1/1e/Shivneri_Fort_Birth_place_of_Shivaji_maharaj.jpg/220px-Shivneri_Fort_Birth_place_of_Shivaji_maharaj.jpg\n",
            "\n",
            "//upload.wikimedia.org/wikipedia/commons/thumb/9/9c/Death_of_Afzal_Khan.jpg/220px-Death_of_Afzal_Khan.jpg\n",
            "\n",
            "//upload.wikimedia.org/wikipedia/en/thumb/3/35/Pratapgad_%282%29.jpg/220px-Pratapgad_%282%29.jpg\n",
            "\n",
            "//upload.wikimedia.org/wikipedia/commons/thumb/0/0f/Shivaji_and_Subedar%27s_Daughter_M._V._Dhurandhar.jpg/220px-Shivaji_and_Subedar%27s_Daughter_M._V._Dhurandhar.jpg\n",
            "\n",
            "//upload.wikimedia.org/wikipedia/commons/thumb/a/ae/Shaistekhan_Surprised.jpg/220px-Shaistekhan_Surprised.jpg\n",
            "\n",
            "//upload.wikimedia.org/wikipedia/commons/thumb/5/53/Jai_Singh_and_Shivaji.jpg/220px-Jai_Singh_and_Shivaji.jpg\n",
            "\n",
            "//upload.wikimedia.org/wikipedia/commons/thumb/c/c5/On_the_way_to_Purandar.jpg/220px-On_the_way_to_Purandar.jpg\n",
            "\n",
            "//upload.wikimedia.org/wikipedia/commons/thumb/7/72/Raja_Shivaji_at_Aurangzeb%27s_Darbar-_M_V_Dhurandhar.jpg/220px-Raja_Shivaji_at_Aurangzeb%27s_Darbar-_M_V_Dhurandhar.jpg\n",
            "\n",
            "//upload.wikimedia.org/wikipedia/commons/thumb/c/c6/Emperor_of_Maratha_India.jpg/220px-Emperor_of_Maratha_India.jpg\n",
            "\n",
            "//upload.wikimedia.org/wikipedia/commons/thumb/f/fe/The_Coronation_Durbar_with_over_100_characters_depicted_in_attendance.jpg/350px-The_Coronation_Durbar_with_over_100_characters_depicted_in_attendance.jpg\n",
            "\n",
            "//upload.wikimedia.org/wikipedia/commons/thumb/0/02/Bajirao_Peshwa_Statue%2C_Pune.jpg/220px-Bajirao_Peshwa_Statue%2C_Pune.jpg\n",
            "\n",
            "//upload.wikimedia.org/wikipedia/en/thumb/8/8e/Sajjangad.jpg/220px-Sajjangad.jpg\n",
            "\n",
            "//upload.wikimedia.org/wikipedia/commons/thumb/4/46/Suvela_Machi_from_Balekilla.jpg/220px-Suvela_Machi_from_Balekilla.jpg\n",
            "\n",
            "//upload.wikimedia.org/wikipedia/commons/thumb/9/92/Shivaji_Maharaj_and_Baji_Prabhu_at_Pawan_Khind.jpg/220px-Shivaji_Maharaj_and_Baji_Prabhu_at_Pawan_Khind.jpg\n",
            "\n",
            "//upload.wikimedia.org/wikipedia/commons/thumb/2/2d/Shivaji_Maharaj_Raigad.jpg/220px-Shivaji_Maharaj_Raigad.jpg\n",
            "\n"
          ],
          "name": "stdout"
        }
      ]
    },
    {
      "cell_type": "code",
      "metadata": {
        "colab": {
          "base_uri": "https://localhost:8080/"
        },
        "id": "pRBaWQ8g8IE5",
        "outputId": "674ba16f-c851-49bc-e251-b68e3de951ac"
      },
      "source": [
        "image_info"
      ],
      "execution_count": null,
      "outputs": [
        {
          "output_type": "execute_result",
          "data": {
            "text/plain": [
              "['//upload.wikimedia.org/wikipedia/commons/thumb/e/ea/Shivaji_British_Museum.jpg/220px-Shivaji_British_Museum.jpg\\n',\n",
              " '//upload.wikimedia.org/wikipedia/commons/thumb/1/1e/Shivneri_Fort_Birth_place_of_Shivaji_maharaj.jpg/220px-Shivneri_Fort_Birth_place_of_Shivaji_maharaj.jpg\\n',\n",
              " '//upload.wikimedia.org/wikipedia/commons/thumb/9/9c/Death_of_Afzal_Khan.jpg/220px-Death_of_Afzal_Khan.jpg\\n',\n",
              " '//upload.wikimedia.org/wikipedia/en/thumb/3/35/Pratapgad_%282%29.jpg/220px-Pratapgad_%282%29.jpg\\n',\n",
              " '//upload.wikimedia.org/wikipedia/commons/thumb/0/0f/Shivaji_and_Subedar%27s_Daughter_M._V._Dhurandhar.jpg/220px-Shivaji_and_Subedar%27s_Daughter_M._V._Dhurandhar.jpg\\n',\n",
              " '//upload.wikimedia.org/wikipedia/commons/thumb/a/ae/Shaistekhan_Surprised.jpg/220px-Shaistekhan_Surprised.jpg\\n',\n",
              " '//upload.wikimedia.org/wikipedia/commons/thumb/5/53/Jai_Singh_and_Shivaji.jpg/220px-Jai_Singh_and_Shivaji.jpg\\n',\n",
              " '//upload.wikimedia.org/wikipedia/commons/thumb/c/c5/On_the_way_to_Purandar.jpg/220px-On_the_way_to_Purandar.jpg\\n',\n",
              " '//upload.wikimedia.org/wikipedia/commons/thumb/7/72/Raja_Shivaji_at_Aurangzeb%27s_Darbar-_M_V_Dhurandhar.jpg/220px-Raja_Shivaji_at_Aurangzeb%27s_Darbar-_M_V_Dhurandhar.jpg\\n',\n",
              " '//upload.wikimedia.org/wikipedia/commons/thumb/c/c6/Emperor_of_Maratha_India.jpg/220px-Emperor_of_Maratha_India.jpg\\n',\n",
              " '//upload.wikimedia.org/wikipedia/commons/thumb/f/fe/The_Coronation_Durbar_with_over_100_characters_depicted_in_attendance.jpg/350px-The_Coronation_Durbar_with_over_100_characters_depicted_in_attendance.jpg\\n',\n",
              " '//upload.wikimedia.org/wikipedia/commons/thumb/0/02/Bajirao_Peshwa_Statue%2C_Pune.jpg/220px-Bajirao_Peshwa_Statue%2C_Pune.jpg\\n',\n",
              " '//upload.wikimedia.org/wikipedia/en/thumb/8/8e/Sajjangad.jpg/220px-Sajjangad.jpg\\n',\n",
              " '//upload.wikimedia.org/wikipedia/commons/thumb/4/46/Suvela_Machi_from_Balekilla.jpg/220px-Suvela_Machi_from_Balekilla.jpg\\n',\n",
              " '//upload.wikimedia.org/wikipedia/commons/thumb/9/92/Shivaji_Maharaj_and_Baji_Prabhu_at_Pawan_Khind.jpg/220px-Shivaji_Maharaj_and_Baji_Prabhu_at_Pawan_Khind.jpg\\n',\n",
              " '//upload.wikimedia.org/wikipedia/commons/thumb/2/2d/Shivaji_Maharaj_Raigad.jpg/220px-Shivaji_Maharaj_Raigad.jpg\\n']"
            ]
          },
          "metadata": {
            "tags": []
          },
          "execution_count": 21
        }
      ]
    },
    {
      "cell_type": "code",
      "metadata": {
        "colab": {
          "base_uri": "https://localhost:8080/",
          "height": 545
        },
        "id": "Jsb37kXq7aC1",
        "outputId": "81927710-bd7d-4cf6-df57-79b12656ab1e"
      },
      "source": [
        "\n",
        "dataframe=pd.DataFrame(image_info)\n",
        "dataframe"
      ],
      "execution_count": null,
      "outputs": [
        {
          "output_type": "execute_result",
          "data": {
            "text/html": [
              "<div>\n",
              "<style scoped>\n",
              "    .dataframe tbody tr th:only-of-type {\n",
              "        vertical-align: middle;\n",
              "    }\n",
              "\n",
              "    .dataframe tbody tr th {\n",
              "        vertical-align: top;\n",
              "    }\n",
              "\n",
              "    .dataframe thead th {\n",
              "        text-align: right;\n",
              "    }\n",
              "</style>\n",
              "<table border=\"1\" class=\"dataframe\">\n",
              "  <thead>\n",
              "    <tr style=\"text-align: right;\">\n",
              "      <th></th>\n",
              "      <th>0</th>\n",
              "    </tr>\n",
              "  </thead>\n",
              "  <tbody>\n",
              "    <tr>\n",
              "      <th>0</th>\n",
              "      <td>//upload.wikimedia.org/wikipedia/commons/thumb...</td>\n",
              "    </tr>\n",
              "    <tr>\n",
              "      <th>1</th>\n",
              "      <td>//upload.wikimedia.org/wikipedia/commons/thumb...</td>\n",
              "    </tr>\n",
              "    <tr>\n",
              "      <th>2</th>\n",
              "      <td>//upload.wikimedia.org/wikipedia/commons/thumb...</td>\n",
              "    </tr>\n",
              "    <tr>\n",
              "      <th>3</th>\n",
              "      <td>//upload.wikimedia.org/wikipedia/en/thumb/3/35...</td>\n",
              "    </tr>\n",
              "    <tr>\n",
              "      <th>4</th>\n",
              "      <td>//upload.wikimedia.org/wikipedia/commons/thumb...</td>\n",
              "    </tr>\n",
              "    <tr>\n",
              "      <th>5</th>\n",
              "      <td>//upload.wikimedia.org/wikipedia/commons/thumb...</td>\n",
              "    </tr>\n",
              "    <tr>\n",
              "      <th>6</th>\n",
              "      <td>//upload.wikimedia.org/wikipedia/commons/thumb...</td>\n",
              "    </tr>\n",
              "    <tr>\n",
              "      <th>7</th>\n",
              "      <td>//upload.wikimedia.org/wikipedia/commons/thumb...</td>\n",
              "    </tr>\n",
              "    <tr>\n",
              "      <th>8</th>\n",
              "      <td>//upload.wikimedia.org/wikipedia/commons/thumb...</td>\n",
              "    </tr>\n",
              "    <tr>\n",
              "      <th>9</th>\n",
              "      <td>//upload.wikimedia.org/wikipedia/commons/thumb...</td>\n",
              "    </tr>\n",
              "    <tr>\n",
              "      <th>10</th>\n",
              "      <td>//upload.wikimedia.org/wikipedia/commons/thumb...</td>\n",
              "    </tr>\n",
              "    <tr>\n",
              "      <th>11</th>\n",
              "      <td>//upload.wikimedia.org/wikipedia/commons/thumb...</td>\n",
              "    </tr>\n",
              "    <tr>\n",
              "      <th>12</th>\n",
              "      <td>//upload.wikimedia.org/wikipedia/en/thumb/8/8e...</td>\n",
              "    </tr>\n",
              "    <tr>\n",
              "      <th>13</th>\n",
              "      <td>//upload.wikimedia.org/wikipedia/commons/thumb...</td>\n",
              "    </tr>\n",
              "    <tr>\n",
              "      <th>14</th>\n",
              "      <td>//upload.wikimedia.org/wikipedia/commons/thumb...</td>\n",
              "    </tr>\n",
              "    <tr>\n",
              "      <th>15</th>\n",
              "      <td>//upload.wikimedia.org/wikipedia/commons/thumb...</td>\n",
              "    </tr>\n",
              "  </tbody>\n",
              "</table>\n",
              "</div>"
            ],
            "text/plain": [
              "                                                    0\n",
              "0   //upload.wikimedia.org/wikipedia/commons/thumb...\n",
              "1   //upload.wikimedia.org/wikipedia/commons/thumb...\n",
              "2   //upload.wikimedia.org/wikipedia/commons/thumb...\n",
              "3   //upload.wikimedia.org/wikipedia/en/thumb/3/35...\n",
              "4   //upload.wikimedia.org/wikipedia/commons/thumb...\n",
              "5   //upload.wikimedia.org/wikipedia/commons/thumb...\n",
              "6   //upload.wikimedia.org/wikipedia/commons/thumb...\n",
              "7   //upload.wikimedia.org/wikipedia/commons/thumb...\n",
              "8   //upload.wikimedia.org/wikipedia/commons/thumb...\n",
              "9   //upload.wikimedia.org/wikipedia/commons/thumb...\n",
              "10  //upload.wikimedia.org/wikipedia/commons/thumb...\n",
              "11  //upload.wikimedia.org/wikipedia/commons/thumb...\n",
              "12  //upload.wikimedia.org/wikipedia/en/thumb/8/8e...\n",
              "13  //upload.wikimedia.org/wikipedia/commons/thumb...\n",
              "14  //upload.wikimedia.org/wikipedia/commons/thumb...\n",
              "15  //upload.wikimedia.org/wikipedia/commons/thumb..."
            ]
          },
          "metadata": {
            "tags": []
          },
          "execution_count": 52
        }
      ]
    },
    {
      "cell_type": "code",
      "metadata": {
        "id": "SvX95jo97mLl"
      },
      "source": [
        "dataframe.columns=['IMAGE_LINK']"
      ],
      "execution_count": null,
      "outputs": []
    },
    {
      "cell_type": "code",
      "metadata": {
        "colab": {
          "base_uri": "https://localhost:8080/",
          "height": 545
        },
        "id": "LO_lCb8S-yGl",
        "outputId": "857af537-37f0-485c-9785-976df9f4d0bb"
      },
      "source": [
        "dataframe"
      ],
      "execution_count": null,
      "outputs": [
        {
          "output_type": "execute_result",
          "data": {
            "text/html": [
              "<div>\n",
              "<style scoped>\n",
              "    .dataframe tbody tr th:only-of-type {\n",
              "        vertical-align: middle;\n",
              "    }\n",
              "\n",
              "    .dataframe tbody tr th {\n",
              "        vertical-align: top;\n",
              "    }\n",
              "\n",
              "    .dataframe thead th {\n",
              "        text-align: right;\n",
              "    }\n",
              "</style>\n",
              "<table border=\"1\" class=\"dataframe\">\n",
              "  <thead>\n",
              "    <tr style=\"text-align: right;\">\n",
              "      <th></th>\n",
              "      <th>IMAGE_LINK</th>\n",
              "    </tr>\n",
              "  </thead>\n",
              "  <tbody>\n",
              "    <tr>\n",
              "      <th>0</th>\n",
              "      <td>//upload.wikimedia.org/wikipedia/commons/thumb...</td>\n",
              "    </tr>\n",
              "    <tr>\n",
              "      <th>1</th>\n",
              "      <td>//upload.wikimedia.org/wikipedia/commons/thumb...</td>\n",
              "    </tr>\n",
              "    <tr>\n",
              "      <th>2</th>\n",
              "      <td>//upload.wikimedia.org/wikipedia/commons/thumb...</td>\n",
              "    </tr>\n",
              "    <tr>\n",
              "      <th>3</th>\n",
              "      <td>//upload.wikimedia.org/wikipedia/en/thumb/3/35...</td>\n",
              "    </tr>\n",
              "    <tr>\n",
              "      <th>4</th>\n",
              "      <td>//upload.wikimedia.org/wikipedia/commons/thumb...</td>\n",
              "    </tr>\n",
              "    <tr>\n",
              "      <th>5</th>\n",
              "      <td>//upload.wikimedia.org/wikipedia/commons/thumb...</td>\n",
              "    </tr>\n",
              "    <tr>\n",
              "      <th>6</th>\n",
              "      <td>//upload.wikimedia.org/wikipedia/commons/thumb...</td>\n",
              "    </tr>\n",
              "    <tr>\n",
              "      <th>7</th>\n",
              "      <td>//upload.wikimedia.org/wikipedia/commons/thumb...</td>\n",
              "    </tr>\n",
              "    <tr>\n",
              "      <th>8</th>\n",
              "      <td>//upload.wikimedia.org/wikipedia/commons/thumb...</td>\n",
              "    </tr>\n",
              "    <tr>\n",
              "      <th>9</th>\n",
              "      <td>//upload.wikimedia.org/wikipedia/commons/thumb...</td>\n",
              "    </tr>\n",
              "    <tr>\n",
              "      <th>10</th>\n",
              "      <td>//upload.wikimedia.org/wikipedia/commons/thumb...</td>\n",
              "    </tr>\n",
              "    <tr>\n",
              "      <th>11</th>\n",
              "      <td>//upload.wikimedia.org/wikipedia/commons/thumb...</td>\n",
              "    </tr>\n",
              "    <tr>\n",
              "      <th>12</th>\n",
              "      <td>//upload.wikimedia.org/wikipedia/en/thumb/8/8e...</td>\n",
              "    </tr>\n",
              "    <tr>\n",
              "      <th>13</th>\n",
              "      <td>//upload.wikimedia.org/wikipedia/commons/thumb...</td>\n",
              "    </tr>\n",
              "    <tr>\n",
              "      <th>14</th>\n",
              "      <td>//upload.wikimedia.org/wikipedia/commons/thumb...</td>\n",
              "    </tr>\n",
              "    <tr>\n",
              "      <th>15</th>\n",
              "      <td>//upload.wikimedia.org/wikipedia/commons/thumb...</td>\n",
              "    </tr>\n",
              "  </tbody>\n",
              "</table>\n",
              "</div>"
            ],
            "text/plain": [
              "                                           IMAGE_LINK\n",
              "0   //upload.wikimedia.org/wikipedia/commons/thumb...\n",
              "1   //upload.wikimedia.org/wikipedia/commons/thumb...\n",
              "2   //upload.wikimedia.org/wikipedia/commons/thumb...\n",
              "3   //upload.wikimedia.org/wikipedia/en/thumb/3/35...\n",
              "4   //upload.wikimedia.org/wikipedia/commons/thumb...\n",
              "5   //upload.wikimedia.org/wikipedia/commons/thumb...\n",
              "6   //upload.wikimedia.org/wikipedia/commons/thumb...\n",
              "7   //upload.wikimedia.org/wikipedia/commons/thumb...\n",
              "8   //upload.wikimedia.org/wikipedia/commons/thumb...\n",
              "9   //upload.wikimedia.org/wikipedia/commons/thumb...\n",
              "10  //upload.wikimedia.org/wikipedia/commons/thumb...\n",
              "11  //upload.wikimedia.org/wikipedia/commons/thumb...\n",
              "12  //upload.wikimedia.org/wikipedia/en/thumb/8/8e...\n",
              "13  //upload.wikimedia.org/wikipedia/commons/thumb...\n",
              "14  //upload.wikimedia.org/wikipedia/commons/thumb...\n",
              "15  //upload.wikimedia.org/wikipedia/commons/thumb..."
            ]
          },
          "metadata": {
            "tags": []
          },
          "execution_count": 54
        }
      ]
    },
    {
      "cell_type": "code",
      "metadata": {
        "id": "dHju8TPF-18l"
      },
      "source": [
        "dataframe.to_excel(r'C://Users//India/Documents//DATA SCIENCE//q4.xlsx',index=False)"
      ],
      "execution_count": null,
      "outputs": []
    },
    {
      "cell_type": "code",
      "metadata": {
        "id": "DxnNCg16O_h9"
      },
      "source": [
        "import requests\n",
        "import urllib.request\n",
        "import shutil"
      ],
      "execution_count": null,
      "outputs": []
    },
    {
      "cell_type": "code",
      "metadata": {
        "id": "ptRAIrdXFlYm"
      },
      "source": [
        "def download_image(image):\n",
        "    response = requests.get(image[0], stream=True)\n",
        "    realname = ''.join(e for e in image[1] if e.isalnum())\n",
        "    \n",
        "    file = open(\"C://Users//India/Documents//DATA SCIENCE//q4{}.jpg\".format(realname), 'wb')\n",
        "    \n",
        "    response.raw.decode_content = True\n",
        "    shutil.copyfileobj(response.raw, file)\n",
        "    del response"
      ],
      "execution_count": null,
      "outputs": []
    },
    {
      "cell_type": "code",
      "metadata": {
        "id": "ksBgmGKhFqPD"
      },
      "source": [
        "for i in range(0, len(image_info)):\n",
        "    download_image(image_info[i])"
      ],
      "execution_count": null,
      "outputs": []
    },
    {
      "cell_type": "code",
      "metadata": {
        "colab": {
          "base_uri": "https://localhost:8080/"
        },
        "id": "Zgq67l6lQcnt",
        "outputId": "8fc20ddd-db69-40e5-d05d-2b1fc30b7558"
      },
      "source": [
        "len(image_info)"
      ],
      "execution_count": null,
      "outputs": [
        {
          "output_type": "execute_result",
          "data": {
            "text/plain": [
              "16"
            ]
          },
          "metadata": {
            "tags": []
          },
          "execution_count": 67
        }
      ]
    }
  ]
}